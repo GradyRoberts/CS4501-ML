{
  "nbformat": 4,
  "nbformat_minor": 0,
  "metadata": {
    "colab": {
      "name": "CS4501ML_All.ipynb",
      "version": "0.3.2",
      "provenance": [],
      "collapsed_sections": [],
      "include_colab_link": true
    },
    "kernelspec": {
      "name": "python3",
      "display_name": "Python 3"
    },
    "accelerator": "GPU"
  },
  "cells": [
    {
      "cell_type": "markdown",
      "metadata": {
        "id": "view-in-github",
        "colab_type": "text"
      },
      "source": [
        "<a href=\"https://colab.research.google.com/github/GradyRoberts/CS4501-ML/blob/master/CS4501ML_All.ipynb\" target=\"_parent\"><img src=\"https://colab.research.google.com/assets/colab-badge.svg\" alt=\"Open In Colab\"/></a>"
      ]
    },
    {
      "metadata": {
        "id": "e2P9_Dn-yIOV",
        "colab_type": "text"
      },
      "cell_type": "markdown",
      "source": [
        "# ML4VA - Team Elzey\n",
        "# Charlottesville Real Estate Valuations"
      ]
    },
    {
      "metadata": {
        "id": "8TEGXBR9tLX5",
        "colab_type": "code",
        "colab": {}
      },
      "cell_type": "code",
      "source": [
        "%%capture\n",
        "%matplotlib inline\n",
        "!pip install category_encoders\n",
        "import category_encoders as ce\n",
        "from sklearn.model_selection import train_test_split, cross_val_score\n",
        "from pandas.plotting import scatter_matrix\n",
        "from sklearn.impute import SimpleImputer\n",
        "from sklearn.preprocessing import LabelEncoder\n",
        "from sklearn.preprocessing import OneHotEncoder\n",
        "from sklearn.compose import ColumnTransformer, make_column_transformer\n",
        "from sklearn.pipeline import Pipeline, make_pipeline\n",
        "from sklearn.preprocessing import StandardScaler\n",
        "import os.path\n",
        "import pandas as pd\n",
        "import numpy as np\n",
        "import matplotlib.pyplot as plt\n",
        "import matplotlib.image as mpimg\n",
        "from datetime import date"
      ],
      "execution_count": 0,
      "outputs": []
    },
    {
      "metadata": {
        "id": "RVAyqrkXTCag",
        "colab_type": "text"
      },
      "cell_type": "markdown",
      "source": [
        "## Data acquisition and preprocessing"
      ]
    },
    {
      "metadata": {
        "id": "tkDYdxUgsEEj",
        "colab_type": "text"
      },
      "cell_type": "markdown",
      "source": [
        "### Load datasets from Github"
      ]
    },
    {
      "metadata": {
        "id": "wl3sBinZsLWI",
        "colab_type": "code",
        "colab": {}
      },
      "cell_type": "code",
      "source": [
        "# Points\n",
        "Points_URL = 'https://raw.githubusercontent.com/GradyRoberts/CS4501-ML/master/Parcel_Owner_Points.csv'\n",
        "points = pd.read_csv(Points_URL)\n",
        "\n",
        "# Parcels\n",
        "Parcels_URL = 'https://raw.githubusercontent.com/GradyRoberts/CS4501-ML/master/Parcel_Area_Details.csv'\n",
        "parcels = pd.read_csv(Parcels_URL)\n",
        "\n",
        "# Sales\n",
        "Real_Estate_Sales_URL = 'https://raw.githubusercontent.com/GradyRoberts/CS4501-ML/master/Real_Estate_Sales.csv'\n",
        "sales = pd.read_csv(Real_Estate_Sales_URL)"
      ],
      "execution_count": 0,
      "outputs": []
    },
    {
      "metadata": {
        "id": "S09BXeA2egjQ",
        "colab_type": "text"
      },
      "cell_type": "markdown",
      "source": [
        "### Get GPS coords and sale history"
      ]
    },
    {
      "metadata": {
        "id": "QpjsqsiFjg5E",
        "colab_type": "text"
      },
      "cell_type": "markdown",
      "source": [
        "Merge the X and Y (Lat and Long) columns of the points data into the other datasets. Merge the sales value into the parcels dataset."
      ]
    },
    {
      "metadata": {
        "id": "UhpzvmdKerp1",
        "colab_type": "code",
        "outputId": "b9a5bdb8-b09d-42b4-e879-8063a7f18ea6",
        "colab": {
          "base_uri": "https://localhost:8080/",
          "height": 221
        }
      },
      "cell_type": "code",
      "source": [
        "# Drop unused columns\n",
        "points = points.drop(['OBJECTID','FileType','GeoParcelIdentificationNumber',\n",
        "                      'LegalDescription','LotSquareFeet','OwnerName','ParcelMap',\n",
        "                      'StreetName','StreetNumber','Unit','UseCode','ZipCode',\n",
        "                      'Zone'], axis=1)\n",
        "\n",
        "sales = sales.drop(['RecordID_Int','StreetName','StreetNumber','Unit'], axis=1)\n",
        "\n",
        "parcels = parcels.drop(['FileType','GeoParcelIdentificationNumber',\n",
        "                        'IsMultiParcelPolygon','Label','LegalDescription',\n",
        "                        'MapPage','ModifiedDate','OwnerName','OwnerAddress',\n",
        "                        'OwnerCityState','OwnerZipCode','StreetName',\n",
        "                        'StreetNumber','TaxYear','Text','Unit','OBJECTID'], axis=1)\n",
        "\n",
        "\n",
        "# Convert ParcelNumber to string\n",
        "points['ParcelNumber'] = points['ParcelNumber'].astype(str)\n",
        "parcels['ParcelNumber'] = parcels['ParcelNumber'].astype(str)\n",
        "sales['ParcelNumber'] = sales['ParcelNumber'].astype(str)\n",
        "\n",
        "# Add SaleAmount, SaleDate, X, and Y to parcels\n",
        "sales = pd.merge(left=sales, right=points, on='ParcelNumber', sort=False)\n",
        "parcels = pd.merge(left=parcels, right=sales, on='ParcelNumber', sort=False)\n",
        "\n",
        "# Drop parcel number\n",
        "parcels = parcels.drop('ParcelNumber', axis=1)\n",
        "\n",
        "#numeric Date\n",
        "k = date(1900, 1, 1)\n",
        "parcels['Date'] = [(date(*[int(i) for i in x[:10].split(\"-\")]) - k).days for x in parcels['SaleDate']]\n",
        "\n",
        "# Format the SaleDate (YYYY) and drop all data before 2000\n",
        "parcels.SaleDate = parcels.SaleDate.str.split('-').str.get(0)\n",
        "parcels.SaleDate = parcels.SaleDate.astype(int)\n",
        "parcels = parcels[parcels.SaleDate >= 2000]\n",
        "\n",
        "# Drop rows that are missing zoning and stage SaleAmount and LotSquareFeet\n",
        "# for imputation. Drop parcels that were assessed for $0 or $100.\n",
        "parcels.SaleAmount = parcels.SaleAmount.replace(0, np.NaN)\n",
        "parcels.LotSquareFeet = parcels.LotSquareFeet.replace(0, np.NaN)\n",
        "parcels.Assessment = parcels.Assessment.replace(0, np.NaN)\n",
        "parcels.Assessment = parcels.Assessment.replace(100, np.NaN)\n",
        "parcels = parcels.dropna(subset=['Zoning','Assessment'])\n",
        "\n",
        "# Place a cap on Assessment\n",
        "#mask = parcels.Assessment > 1000000\n",
        "#parcels.loc[mask, 'Assessment'] = 1000000\n",
        "#np.sum(mask)/parcels.shape[0] #show ~6% of homes above that value\n",
        "\n",
        "\n",
        "# Shuffle data\n",
        "parcels = parcels.sample(frac=1, random_state=42).reset_index(drop=True)\n",
        "parcels.info()\n",
        "\n",
        "#It would be easier in the future to keep track of what columns are numeric vs. Catagorical for visualizations\n",
        "numeric_columns = ['LotSquareFeet', 'Date', 'SaleAmount', 'X','Y']#intentionally excluding 'Assesment'\n",
        "encoded_columns = ['SaleDate', 'Zoning']"
      ],
      "execution_count": 0,
      "outputs": [
        {
          "output_type": "stream",
          "text": [
            "<class 'pandas.core.frame.DataFrame'>\n",
            "RangeIndex: 25826 entries, 0 to 25825\n",
            "Data columns (total 7 columns):\n",
            "Assessment       25826 non-null float64\n",
            "LotSquareFeet    17989 non-null float64\n",
            "Zoning           25826 non-null object\n",
            "SaleDate         25826 non-null int64\n",
            "SaleAmount       15692 non-null float64\n",
            "X                25826 non-null float64\n",
            "Y                25826 non-null float64\n",
            "dtypes: float64(5), int64(1), object(1)\n",
            "memory usage: 1.4+ MB\n"
          ],
          "name": "stdout"
        }
      ]
    },
    {
      "metadata": {
        "id": "YGe66dZWxtGu",
        "colab_type": "text"
      },
      "cell_type": "markdown",
      "source": [
        "### OneHotEncoding and Scaling"
      ]
    },
    {
      "metadata": {
        "id": "OgK8W5KNJ5tp",
        "colab_type": "text"
      },
      "cell_type": "markdown",
      "source": [
        "I was having an issue using a ColumnTransformer pipeline so I am opting to just do the operations separately."
      ]
    },
    {
      "metadata": {
        "id": "jJNJnUDSyULo",
        "colab_type": "code",
        "outputId": "4dc7bdf2-e874-4770-d1f8-f5da0f2714bc",
        "colab": {
          "base_uri": "https://localhost:8080/",
          "height": 253
        }
      },
      "cell_type": "code",
      "source": [
        "# OneHot with get_dummies\n",
        "parcels = pd.get_dummies(parcels, columns=['SaleDate', 'Zoning'])\n",
        "\n",
        "# Save col names and indices\n",
        "col_names = parcels.columns\n",
        "inds = list(parcels.index.values)\n",
        "\n",
        "# Get numeric columns for imputation and scaling\n",
        "parcels_num = parcels[['LotSquareFeet','SaleAmount']]\n",
        "parcels = parcels.drop(['LotSquareFeet','SaleAmount'], axis=1)\n",
        "\n",
        "# Impute\n",
        "imp = SimpleImputer(strategy='median')\n",
        "parcels_num = pd.DataFrame(imp.fit_transform(parcels_num), \n",
        "                           columns=['LotSquareFeet','SaleAmount'], index=inds)\n",
        "# Scale\n",
        "scl = StandardScaler()\n",
        "parcels_num = pd.DataFrame(scl.fit_transform(parcels_num),\n",
        "                           columns=['LotSquareFeet','SaleAmount'], index=inds)\n",
        "\n",
        "parcels = parcels.join(parcels_num)\n",
        "parcels.head()"
      ],
      "execution_count": 0,
      "outputs": [
        {
          "output_type": "execute_result",
          "data": {
            "text/html": [
              "<div>\n",
              "<style scoped>\n",
              "    .dataframe tbody tr th:only-of-type {\n",
              "        vertical-align: middle;\n",
              "    }\n",
              "\n",
              "    .dataframe tbody tr th {\n",
              "        vertical-align: top;\n",
              "    }\n",
              "\n",
              "    .dataframe thead th {\n",
              "        text-align: right;\n",
              "    }\n",
              "</style>\n",
              "<table border=\"1\" class=\"dataframe\">\n",
              "  <thead>\n",
              "    <tr style=\"text-align: right;\">\n",
              "      <th></th>\n",
              "      <th>Assessment</th>\n",
              "      <th>X</th>\n",
              "      <th>Y</th>\n",
              "      <th>SaleDate_2000</th>\n",
              "      <th>SaleDate_2001</th>\n",
              "      <th>SaleDate_2002</th>\n",
              "      <th>SaleDate_2003</th>\n",
              "      <th>SaleDate_2004</th>\n",
              "      <th>SaleDate_2005</th>\n",
              "      <th>SaleDate_2006</th>\n",
              "      <th>...</th>\n",
              "      <th>Zoning_URBH</th>\n",
              "      <th>Zoning_WME</th>\n",
              "      <th>Zoning_WMEH</th>\n",
              "      <th>Zoning_WMN</th>\n",
              "      <th>Zoning_WMNH</th>\n",
              "      <th>Zoning_WMW</th>\n",
              "      <th>Zoning_WMWH</th>\n",
              "      <th>Zoning_WSH</th>\n",
              "      <th>LotSquareFeet</th>\n",
              "      <th>SaleAmount</th>\n",
              "    </tr>\n",
              "  </thead>\n",
              "  <tbody>\n",
              "    <tr>\n",
              "      <th>0</th>\n",
              "      <td>282300.0</td>\n",
              "      <td>-78.516656</td>\n",
              "      <td>38.013131</td>\n",
              "      <td>0</td>\n",
              "      <td>0</td>\n",
              "      <td>0</td>\n",
              "      <td>1</td>\n",
              "      <td>0</td>\n",
              "      <td>0</td>\n",
              "      <td>0</td>\n",
              "      <td>...</td>\n",
              "      <td>0</td>\n",
              "      <td>0</td>\n",
              "      <td>0</td>\n",
              "      <td>0</td>\n",
              "      <td>0</td>\n",
              "      <td>0</td>\n",
              "      <td>0</td>\n",
              "      <td>0</td>\n",
              "      <td>-0.022405</td>\n",
              "      <td>-0.129452</td>\n",
              "    </tr>\n",
              "    <tr>\n",
              "      <th>1</th>\n",
              "      <td>182400.0</td>\n",
              "      <td>-78.486465</td>\n",
              "      <td>38.017739</td>\n",
              "      <td>0</td>\n",
              "      <td>0</td>\n",
              "      <td>0</td>\n",
              "      <td>0</td>\n",
              "      <td>0</td>\n",
              "      <td>0</td>\n",
              "      <td>0</td>\n",
              "      <td>...</td>\n",
              "      <td>0</td>\n",
              "      <td>0</td>\n",
              "      <td>0</td>\n",
              "      <td>0</td>\n",
              "      <td>0</td>\n",
              "      <td>0</td>\n",
              "      <td>0</td>\n",
              "      <td>0</td>\n",
              "      <td>-0.024305</td>\n",
              "      <td>-0.158043</td>\n",
              "    </tr>\n",
              "    <tr>\n",
              "      <th>2</th>\n",
              "      <td>728600.0</td>\n",
              "      <td>-78.475299</td>\n",
              "      <td>38.031103</td>\n",
              "      <td>0</td>\n",
              "      <td>0</td>\n",
              "      <td>0</td>\n",
              "      <td>0</td>\n",
              "      <td>0</td>\n",
              "      <td>0</td>\n",
              "      <td>0</td>\n",
              "      <td>...</td>\n",
              "      <td>0</td>\n",
              "      <td>0</td>\n",
              "      <td>0</td>\n",
              "      <td>0</td>\n",
              "      <td>0</td>\n",
              "      <td>0</td>\n",
              "      <td>0</td>\n",
              "      <td>0</td>\n",
              "      <td>-0.027053</td>\n",
              "      <td>0.102302</td>\n",
              "    </tr>\n",
              "    <tr>\n",
              "      <th>3</th>\n",
              "      <td>307500.0</td>\n",
              "      <td>-78.464094</td>\n",
              "      <td>38.025466</td>\n",
              "      <td>0</td>\n",
              "      <td>0</td>\n",
              "      <td>0</td>\n",
              "      <td>0</td>\n",
              "      <td>0</td>\n",
              "      <td>0</td>\n",
              "      <td>0</td>\n",
              "      <td>...</td>\n",
              "      <td>0</td>\n",
              "      <td>0</td>\n",
              "      <td>0</td>\n",
              "      <td>0</td>\n",
              "      <td>0</td>\n",
              "      <td>0</td>\n",
              "      <td>0</td>\n",
              "      <td>0</td>\n",
              "      <td>-0.023574</td>\n",
              "      <td>-0.085208</td>\n",
              "    </tr>\n",
              "    <tr>\n",
              "      <th>4</th>\n",
              "      <td>199800.0</td>\n",
              "      <td>-78.491957</td>\n",
              "      <td>38.030280</td>\n",
              "      <td>0</td>\n",
              "      <td>0</td>\n",
              "      <td>0</td>\n",
              "      <td>0</td>\n",
              "      <td>0</td>\n",
              "      <td>0</td>\n",
              "      <td>0</td>\n",
              "      <td>...</td>\n",
              "      <td>0</td>\n",
              "      <td>0</td>\n",
              "      <td>0</td>\n",
              "      <td>0</td>\n",
              "      <td>0</td>\n",
              "      <td>0</td>\n",
              "      <td>0</td>\n",
              "      <td>0</td>\n",
              "      <td>-0.023574</td>\n",
              "      <td>-0.134023</td>\n",
              "    </tr>\n",
              "  </tbody>\n",
              "</table>\n",
              "<p>5 rows × 91 columns</p>\n",
              "</div>"
            ],
            "text/plain": [
              "   Assessment          X          Y  SaleDate_2000  SaleDate_2001  \\\n",
              "0    282300.0 -78.516656  38.013131              0              0   \n",
              "1    182400.0 -78.486465  38.017739              0              0   \n",
              "2    728600.0 -78.475299  38.031103              0              0   \n",
              "3    307500.0 -78.464094  38.025466              0              0   \n",
              "4    199800.0 -78.491957  38.030280              0              0   \n",
              "\n",
              "   SaleDate_2002  SaleDate_2003  SaleDate_2004  SaleDate_2005  SaleDate_2006  \\\n",
              "0              0              1              0              0              0   \n",
              "1              0              0              0              0              0   \n",
              "2              0              0              0              0              0   \n",
              "3              0              0              0              0              0   \n",
              "4              0              0              0              0              0   \n",
              "\n",
              "      ...      Zoning_URBH  Zoning_WME  Zoning_WMEH  Zoning_WMN  Zoning_WMNH  \\\n",
              "0     ...                0           0            0           0            0   \n",
              "1     ...                0           0            0           0            0   \n",
              "2     ...                0           0            0           0            0   \n",
              "3     ...                0           0            0           0            0   \n",
              "4     ...                0           0            0           0            0   \n",
              "\n",
              "   Zoning_WMW  Zoning_WMWH  Zoning_WSH  LotSquareFeet  SaleAmount  \n",
              "0           0            0           0      -0.022405   -0.129452  \n",
              "1           0            0           0      -0.024305   -0.158043  \n",
              "2           0            0           0      -0.027053    0.102302  \n",
              "3           0            0           0      -0.023574   -0.085208  \n",
              "4           0            0           0      -0.023574   -0.134023  \n",
              "\n",
              "[5 rows x 91 columns]"
            ]
          },
          "metadata": {
            "tags": []
          },
          "execution_count": 45
        }
      ]
    },
    {
      "metadata": {
        "id": "Ze5u7-9sPZqb",
        "colab_type": "text"
      },
      "cell_type": "markdown",
      "source": [
        "### Split train and test data"
      ]
    },
    {
      "metadata": {
        "id": "WGnXp-B2xMYa",
        "colab_type": "code",
        "colab": {}
      },
      "cell_type": "code",
      "source": [
        "parcels_y = parcels['Assessment']\n",
        "parcels_X = parcels.drop('Assessment', axis=1)\n",
        "\n",
        "X_train,X_test,y_train,y_test = train_test_split(parcels_X, parcels_y, test_size=0.2, random_state=42)"
      ],
      "execution_count": 0,
      "outputs": []
    },
    {
      "metadata": {
        "id": "E0cuWrTxS5ip",
        "colab_type": "text"
      },
      "cell_type": "markdown",
      "source": [
        "## Data visualization"
      ]
    },
    {
      "metadata": {
        "id": "qzD1QOv5TRHy",
        "colab_type": "code",
        "outputId": "bddf68c8-7872-4360-d183-8127ba8f380f",
        "colab": {
          "base_uri": "https://localhost:8080/",
          "height": 231
        }
      },
      "cell_type": "code",
      "source": [
        "from urllib.request import urlopen\n",
        "\n",
        "#Note that this requires Lat, Long not be standardized/centered\n",
        "train = X_train.join(y_train)\n",
        "train['Assessment'] = [i if i < 1000000 else 1000000 for i in train['Assessment']]# a hack for now; should figure out how to \n",
        "\n",
        "ax = train.plot(kind=\"scatter\", x=\"X\", y=\"Y\", figsize=(9,7), \n",
        "                c=\"Assessment\", colormap=plt.get_cmap(\"jet\"),\n",
        "                colorbar=True, alpha=0.3)\n",
        "\n",
        "with urlopen('https://raw.githubusercontent.com/GradyRoberts/CS4501-ML/master/cville.png') as file:\n",
        "  img = mpimg.imread(file)#, mode='RGB')\n",
        "  \n",
        "plt.imshow(img, extent=[-78.525, -78.452, 38.008, 38.072], cmap=plt.get_cmap('jet'))\n",
        "\n",
        "plt.xlim(-78.525,-78.452)\n",
        "plt.ylim(38.008,38.072)\n",
        "plt.xlabel('Longitude')\n",
        "plt.ylabel('Latitude')\n",
        "plt.title('Value assessment by parcel in Charlottesville')\n",
        "plt.show()"
      ],
      "execution_count": 0,
      "outputs": [
        {
          "output_type": "error",
          "ename": "NameError",
          "evalue": "ignored",
          "traceback": [
            "\u001b[0;31m---------------------------------------------------------------------------\u001b[0m",
            "\u001b[0;31mNameError\u001b[0m                                 Traceback (most recent call last)",
            "\u001b[0;32m<ipython-input-1-a7a29617bd42>\u001b[0m in \u001b[0;36m<module>\u001b[0;34m()\u001b[0m\n\u001b[1;32m      3\u001b[0m \u001b[0;31m#train = X_train.join(y_train)\u001b[0m\u001b[0;34m\u001b[0m\u001b[0;34m\u001b[0m\u001b[0;34m\u001b[0m\u001b[0m\n\u001b[1;32m      4\u001b[0m \u001b[0;34m\u001b[0m\u001b[0m\n\u001b[0;32m----> 5\u001b[0;31m ax = train.plot(kind=\"scatter\", x=\"X\", y=\"Y\", figsize=(9,12), \n\u001b[0m\u001b[1;32m      6\u001b[0m                 \u001b[0mc\u001b[0m\u001b[0;34m=\u001b[0m\u001b[0;34m\"Assessment\"\u001b[0m\u001b[0;34m,\u001b[0m \u001b[0mcolormap\u001b[0m\u001b[0;34m=\u001b[0m\u001b[0mplt\u001b[0m\u001b[0;34m.\u001b[0m\u001b[0mget_cmap\u001b[0m\u001b[0;34m(\u001b[0m\u001b[0;34m\"jet\"\u001b[0m\u001b[0;34m)\u001b[0m\u001b[0;34m,\u001b[0m\u001b[0;34m\u001b[0m\u001b[0;34m\u001b[0m\u001b[0m\n\u001b[1;32m      7\u001b[0m                 colorbar=True, alpha=0.3)\n",
            "\u001b[0;31mNameError\u001b[0m: name 'train' is not defined"
          ]
        }
      ]
    },
    {
      "metadata": {
        "id": "wtqt82_VTnCC",
        "colab_type": "code",
        "colab": {}
      },
      "cell_type": "code",
      "source": [
        "def reg_train_test_mse(reg, name, X_train, y_train, X_test, y_test):\n",
        "  reg.fit(X_train, y_train)\n",
        "  reg_train_pred = reg.predict(X_train)\n",
        "  reg_train_mse = np.mean([(i-j)**2 for i,j in zip(reg_train_pred, y_train)])\n",
        "  reg_pred = reg.predict(X_test)\n",
        "  reg_mse = np.mean([(i-j)**2 for i,j in zip(reg_pred, y_test)])\n",
        "  if name != '':\n",
        "    print(name + \" Train Mean Squared Error: \", reg_train_mse)\n",
        "    print(name + \" Test Mean Squared Error: \", reg_mse)\n",
        "  return(reg_train_mse, reg_mse)"
      ],
      "execution_count": 0,
      "outputs": []
    },
    {
      "metadata": {
        "id": "jh1QQDMC5wAD",
        "colab_type": "code",
        "colab": {}
      },
      "cell_type": "code",
      "source": [
        "#Linear Regression (Normal Equation as Small Dataset)\n",
        "\n",
        "break#Running the following sections will take a lot of time; want to be able to run all cells for preprossessing with starting these\n",
        "\n",
        "\n",
        "from sklearn.linear_model import LinearRegression\n",
        "lin_reg = LinearRegression()\n",
        "lin_reg.fit(X_train, y_train)\n",
        "lin_reg_train_pred = lin_reg.predict(X_train)\n",
        "lin_reg_train_mse = np.mean([(i-j)**2 for i,j in zip(lin_reg_train_pred, y_train)])\n",
        "lin_reg_pred = lin_reg.predict(X_test)\n",
        "lin_reg_mse = np.mean([(i-j)**2 for i,j in zip(lin_reg_pred, y_test)])\n",
        "print(\"Linear Regression Train Mean Squared Error:\", lin_reg_train_mse)\n",
        "print(\"Linear Regression Test Mean Squared Error: \", lin_reg_mse)\n",
        "\n",
        "#These features are linear in higher dimensions but become destorted in lower dims\n",
        "for col in numeric_columns:\n",
        "  k = zip(lin_reg_pred, X_test.loc[:, col], y_test)\n",
        "  k = sorted(k, key = lambda x: x[1])\n",
        "  pred, test_col, y_col = zip(*k)\n",
        "  plt.title(col + ' predictive abilitities')\n",
        "  plt.plot(test_col, y_col, \"b.\", alpha = 0.3,)\n",
        "  plt.plot(test_col, pred, \"r-\", alpha = 0.3)\n",
        "  plt.xlim(test_col[100], test_col[-100])\n",
        "  plt.ylim(0,1000000)\n",
        "  plt.xlabel(col)\n",
        "  plt.ylabel(\"Assessment\")\n",
        "  plt.show()"
      ],
      "execution_count": 0,
      "outputs": []
    },
    {
      "metadata": {
        "id": "fx7cub_D51pf",
        "colab_type": "code",
        "colab": {}
      },
      "cell_type": "code",
      "source": [
        "from sklearn.preprocessing import PolynomialFeatures\n",
        "poly_features = PolynomialFeatures(degree = 2, include_bias = True)\n",
        "g = poly_features.fit(X_train)\n",
        "poly_X_train = g.transform(X_train)\n",
        "poly_X_test = g.transform(X_test)\n",
        "poly_reg = LinearRegression()\n",
        "poly_reg.fit(poly_X_train, y_train)\n",
        "poly_reg_train_pred = poly_reg.predict(poly_X_train)\n",
        "poly_reg_train_mse = np.mean([(i-j)**2 for i,j in zip(poly_reg_train_pred, y_train)])\n",
        "poly_reg_pred = poly_reg.predict(poly_X_test)\n",
        "poly_reg_mse = np.mean([(i-j)**2 for i,j in zip(poly_reg_pred, y_test)])\n",
        "print(\"Polynomial Regression Train Mean Squared Error: \", poly_reg_train_mse)\n",
        "print(\"Polynomial Regression Test Mean Squared Error: \", poly_reg_mse)\n",
        "#way worse for overfitting likely as have all those catagorical vars"
      ],
      "execution_count": 0,
      "outputs": []
    },
    {
      "metadata": {
        "id": "5JQ-nrpA531D",
        "colab_type": "code",
        "colab": {}
      },
      "cell_type": "code",
      "source": [
        "#Will try and Regularize the Polynomial Model\n",
        "from sklearn.linear_model import Ridge, Lasso\n",
        "poly_ridge_reg = Ridge(alpha=1, solver=\"cholesky\", random_state=42)\n",
        "reg_train_test_mse(poly_ridge_reg, \"Ridge Regularized Polynomial  Regression\", X_train, y_train, X_test, y_test)\n",
        "print(\"\\n\")\n",
        "\n",
        "lasso_ridge_reg = Lasso(alpha = 0.5)#tune hyperparam\n",
        "reg_train_test_mse(lasso_ridge_reg, \"Lasso Regularized Polynomial Regression\", X_train, y_train, X_test, y_test)"
      ],
      "execution_count": 0,
      "outputs": []
    },
    {
      "metadata": {
        "id": "hwcoa6LH56kB",
        "colab_type": "code",
        "colab": {}
      },
      "cell_type": "code",
      "source": [
        "break #takes absolutely forever; DO NOT RUN\n",
        "sklearn.svm import SVC\n",
        "gaussian_kernal = SVC(kernel = \"rbf\", gamma = 0.1, C=1)\n",
        "reg_train_test_mse(gaussian_kernal, \"Gaussian Kernal \", X_train, y_train, X_test, y_test)\n"
      ],
      "execution_count": 0,
      "outputs": []
    }
  ]
}